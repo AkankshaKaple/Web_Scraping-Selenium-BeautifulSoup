{
 "cells": [
  {
   "cell_type": "code",
   "execution_count": 10,
   "metadata": {},
   "outputs": [],
   "source": [
    "# # from selenium import webdriver\n",
    "# from time import sleep\n",
    "# # import csv\n",
    "# # import pandas as pd\n",
    "# # # specifies the path to the chromedriver.exe\n",
    "# # driver = webdriver.Chrome('C:\\\\Users\\\\DILIP\\\\Downloads\\\\crome\\\\chromedriver.exe')\n",
    "# from selenium import webdriver\n",
    "# from selenium.webdriver.common.keys import Keys\n",
    "# import csv\n",
    "# import pandas as pd\n",
    "# from selenium.common.exceptions import NoSuchElementException, WebDriverException\n",
    "\n",
    "\n",
    "# chromedriver = '/usr/bin/chromedriver'\n",
    "# driver = webdriver.Chrome(chromedriver)\n",
    "\n",
    "# driver.get(\"https://www.linkedin.com/directory/companies\")\n",
    "# sign_in = driver.find_element_by_link_text(\"Sign in\")\n",
    "# sign_in.click()\n",
    "# user_name = driver.find_element_by_class_name(\"login-email\")\n",
    "# user_name.send_keys(\"a@gmail.com\")\n",
    "\n",
    "# password =driver.find_element_by_class_name(\"login-password\")\n",
    "# password.send_keys(\"\")\n",
    "                  \n",
    "# sleep(2) \n",
    "# sign_in_button = driver.find_element_by_xpath('//*[@type=\"submit\"]')                \n",
    "# sign_in_button.click() \n",
    "\n",
    "# find_company = driver.find_elements_by_class_name('content')\n",
    "\n",
    "# company_name=[]\n",
    "# url =[]\n",
    "# employees = []\n",
    "# j=list(range(0,5))\n",
    "# for i in j:\n",
    "#     c_name =find_company[i].text\n",
    "#     company_name.append(c_name)\n",
    "    \n",
    "# def callfunction(company_name):\n",
    "#     for i in range(0,5):\n",
    "#         link = driver.find_elements_by_xpath('//li[@class = \"content\"]/a')\n",
    "#         link[i].text\n",
    "#         print()\n",
    "#         link_ = link[i].get_attribute(\"href\")\n",
    "#         print(link_)\n",
    "# from selenium import webdriver\n",
    "# from time import sleep\n",
    "# import csv\n",
    "# import pandas as pd\n",
    "# # specifies the path to the chromedriver.exe\n",
    "# chromedriver = '/usr/bin/chromedriver'\n",
    "# driver = webdriver.Chrome(chromedriver)\n",
    "\n",
    "# driver.get(\"https://www.linkedin.com/\")\n",
    "# sign_in = driver.find_element_by_link_text(\"Sign in\")\n",
    "# sign_in.click()\n",
    "# user_name = driver.find_element_by_class_name(\"login-email\")\n",
    "# user_name.send_keys(\"akankshakaple@gmail.com\")\n",
    "\n",
    "# password =driver.find_element_by_class_name(\"login-password\")\n",
    "# password.send_keys(\"\")\n",
    "                  \n",
    "# sleep(2) \n",
    "# sign_in_button = driver.find_element_by_xpath('//*[@type=\"submit\"]')                \n",
    "# sign_in_button.click() \n",
    "\n",
    "# find_company = driver.find_elements_by_class_name('content')\n",
    "\n",
    "# company_name=[]\n",
    "# url =[]\n",
    "# employees = []\n",
    "# j=list(range(0,5))\n",
    "# for i in j:\n",
    "#     c_name =find_company[i].text\n",
    "#     company_name.append(c_name)\n",
    "    \n",
    "# def callfunction(company_name):\n",
    "#     for i in range(0,5):\n",
    "#         link = driver.find_elements_by_xpath('//li[@class = \"content\"]/a')\n",
    "#         link[i].text\n",
    "#         print()\n",
    "#         link_ = link[i].get_attribute(\"href\")\n",
    "#         print(link_)\n",
    "#         url.append(link_)\n",
    "#         driver.get(link_)\n",
    "#         sleep(2)\n",
    "#         driver.find_element_by_link_text('About').click()\n",
    "#         sleep(8)\n",
    "#         em=driver.find_element_by_class_name('overflow-hidden')\n",
    "#         employ = em.text  \n",
    "#         em_no = employ.split(\"\\n\")\n",
    "\n",
    "#         for i in em_no:\n",
    "#             if(i == \"Company size\"):\n",
    "#                 print(em_no[em_no.index(i)+1])\n",
    "#                 employees.append(em_no[em_no.index(i)+1])\n",
    "#             break\n",
    "\n",
    "\n",
    "#         driver.execute_script(\"window.history.go(-2)\")\n",
    "#         sleep(8)\n",
    "\n",
    "\n",
    "#     callfunction(company_name)\n",
    "#     # =============================================================================\n",
    "#     # print(url)\n",
    "#     # print(employees)\n",
    "#     # =============================================================================\n",
    "#     data = [company_name,url,employees]\n",
    "#     df = pd.DataFrame(data,index = [\"COmpany_NAME\",\"Url\",\"Employees\"])\n",
    "#     url.append(link_)\n",
    "#     driver.get(link_)\n",
    "#     sleep(2)\n",
    "#     driver.find_element_by_link_text('About').click()\n",
    "#     sleep(8)\n",
    "#     em=driver.find_element_by_class_name('overflow-hidden')\n",
    "#     employ = em.text  \n",
    "#     em_no = employ.split(\"\\n\")\n",
    "\n",
    "#     for i in em_no:\n",
    "#         if(i == \"Company size\"):\n",
    "#             print(em_no[em_no.index(i)+1])\n",
    "#             employees.append(em_no[em_no.index(i)+1])\n",
    "#             break\n",
    "\n",
    "\n",
    "#     driver.execute_script(\"window.history.go(-2)\")\n",
    "#     sleep(8)\n",
    "\n",
    "\n",
    "# callfunction(company_name)\n",
    "# # =============================================================================\n",
    "# # print(url)\n",
    "# # print(employees)\n",
    "# # =============================================================================\n",
    "# data = [company_name,url,employees]\n",
    "# df = pd.DataFrame(data,index = [\"COmpany_NAME\",\"Url\",\"Employees\"])\n",
    "# df"
   ]
  },
  {
   "cell_type": "code",
   "execution_count": 12,
   "metadata": {},
   "outputs": [],
   "source": [
    "from time import sleep\n",
    "from selenium import webdriver\n",
    "from selenium.webdriver.common.keys import Keys\n",
    "import csv\n",
    "import pandas as pd\n",
    "from selenium.common.exceptions import NoSuchElementException, WebDriverException\n",
    "\n",
    "\n",
    "chromedriver = '/usr/bin/chromedriver'\n",
    "driver = webdriver.Chrome(chromedriver)\n",
    "\n",
    "driver.get(\"https://www.linkedin.com/directory/companies\")\n",
    "sign_in = driver.find_element_by_link_text(\"Sign in\")\n",
    "sign_in.click()\n",
    "user_name = driver.find_element_by_class_name(\"login-email\")\n",
    "user_name.send_keys(\"akankshakaple@gmail.com\")\n",
    "\n",
    "password =driver.find_element_by_class_name(\"login-password\")\n",
    "password.send_keys(\"\")\n",
    "                  \n"
   ]
  },
  {
   "cell_type": "code",
   "execution_count": 18,
   "metadata": {},
   "outputs": [],
   "source": [
    "from selenium import webdriver\n",
    "from time import sleep\n",
    "import csv\n",
    "import pandas as pd\n",
    "# specifies the path to the chromedriver.exe\n",
    "chromedriver = '/usr/bin/chromedriver'\n",
    "driver = webdriver.Chrome(chromedriver)\n",
    "\n",
    "driver.get(\"https://www.linkedin.com/directory/companies\")\n",
    "sign_in = driver.find_element_by_link_text(\"Sign in\")\n",
    "sign_in.click()\n",
    "user_name = driver.find_element_by_class_name(\"login-email\")\n",
    "user_name.send_keys(\"akankshakaple@gmail.com\")\n",
    "\n",
    "password =driver.find_element_by_class_name(\"login-password\")\n",
    "password.send_keys(\"bigw@l@data007\")\n",
    "                  \n",
    "sleep(2) \n",
    "sign_in_button = driver.find_element_by_xpath('//*[@type=\"submit\"]')                \n",
    "sign_in_button.click() \n",
    "\n",
    "find_company = driver.find_elements_by_class_name('content')"
   ]
  },
  {
   "cell_type": "code",
   "execution_count": 47,
   "metadata": {},
   "outputs": [],
   "source": [
    "data = pd.read_excel('All In One.xlsx')\n",
    "data.drop_duplicates(inplace=True)\n",
    "data.fillna(\"Missing\", inplace=True)"
   ]
  },
  {
   "cell_type": "code",
   "execution_count": 48,
   "metadata": {},
   "outputs": [
    {
     "name": "stdout",
     "output_type": "stream",
     "text": [
      "(15312, 53)\n"
     ]
    },
    {
     "data": {
      "text/plain": [
       "(15271, 53)"
      ]
     },
     "execution_count": 48,
     "metadata": {},
     "output_type": "execute_result"
    }
   ],
   "source": [
    "print(data.shape)\n",
    "index = []\n",
    "for i in range(len(data)):\n",
    "    if data.iloc[i]['Company Name'] == 'Missing' and data.iloc[i]['Website'] == 'Missing':\n",
    "        index.append(i)\n",
    "data.drop(index, inplace=True)\n",
    "data.shape"
   ]
  },
  {
   "cell_type": "code",
   "execution_count": 55,
   "metadata": {},
   "outputs": [],
   "source": [
    "company_name = []\n",
    "for i in range(len(data)):\n",
    "    c_name = data['Company Name'].iloc[i]\n",
    "    website = data['Website'].iloc[i]\n",
    "    if name == 'Missing':\n",
    "        company_name.append(website)\n",
    "    else:\n",
    "        company_name.append(c_name)"
   ]
  },
  {
   "cell_type": "code",
   "execution_count": 56,
   "metadata": {},
   "outputs": [
    {
     "data": {
      "text/plain": [
       "15271"
      ]
     },
     "execution_count": 56,
     "metadata": {},
     "output_type": "execute_result"
    }
   ],
   "source": [
    "len(company_name)"
   ]
  },
  {
   "cell_type": "code",
   "execution_count": 54,
   "metadata": {},
   "outputs": [
    {
     "data": {
      "text/plain": [
       "['Amazon',\n",
       " 'Jobs Interviewing Now from MJH',\n",
       " 'LinkedIn',\n",
       " 'HR Multinational Corp',\n",
       " 'The Gypsy Nurse']"
      ]
     },
     "execution_count": 54,
     "metadata": {},
     "output_type": "execute_result"
    }
   ],
   "source": [
    "company_name=[]\n",
    "url =[]\n",
    "employees = []\n",
    "j=list(range(0,5))\n",
    "for i in j:\n",
    "    c_name =find_company[i].text\n",
    "    company_name.append(c_name)\n",
    "\n",
    "company_name"
   ]
  },
  {
   "cell_type": "code",
   "execution_count": 70,
   "metadata": {},
   "outputs": [
    {
     "ename": "ImportError",
     "evalue": "cannot import name 'search' from 'googlesearch' (/home/akanksha/anaconda3/lib/python3.7/site-packages/googlesearch/__init__.py)",
     "output_type": "error",
     "traceback": [
      "\u001b[0;31m---------------------------------------------------------------------------\u001b[0m",
      "\u001b[0;31mImportError\u001b[0m                               Traceback (most recent call last)",
      "\u001b[0;32m<ipython-input-70-76365aa14d9f>\u001b[0m in \u001b[0;36m<module>\u001b[0;34m\u001b[0m\n\u001b[0;32m----> 1\u001b[0;31m \u001b[0;32mfrom\u001b[0m \u001b[0mgooglesearch\u001b[0m \u001b[0;32mimport\u001b[0m \u001b[0msearch\u001b[0m\u001b[0;34m\u001b[0m\u001b[0;34m\u001b[0m\u001b[0m\n\u001b[0m",
      "\u001b[0;31mImportError\u001b[0m: cannot import name 'search' from 'googlesearch' (/home/akanksha/anaconda3/lib/python3.7/site-packages/googlesearch/__init__.py)"
     ]
    }
   ],
   "source": [
    "from googlesearch import search"
   ]
  },
  {
   "cell_type": "code",
   "execution_count": 69,
   "metadata": {},
   "outputs": [
    {
     "ename": "ImportError",
     "evalue": "cannot import name 'search' from 'googlesearch' (/home/akanksha/anaconda3/lib/python3.7/site-packages/googlesearch/__init__.py)",
     "output_type": "error",
     "traceback": [
      "\u001b[0;31m---------------------------------------------------------------------------\u001b[0m",
      "\u001b[0;31mImportError\u001b[0m                               Traceback (most recent call last)",
      "\u001b[0;32m<ipython-input-69-ec40b8e01da5>\u001b[0m in \u001b[0;36m<module>\u001b[0;34m\u001b[0m\n\u001b[0;32m----> 1\u001b[0;31m \u001b[0;32mfrom\u001b[0m \u001b[0mgooglesearch\u001b[0m \u001b[0;32mimport\u001b[0m \u001b[0msearch\u001b[0m\u001b[0;34m\u001b[0m\u001b[0;34m\u001b[0m\u001b[0m\n\u001b[0m\u001b[1;32m      2\u001b[0m \u001b[0;32mdef\u001b[0m \u001b[0mget_urls\u001b[0m\u001b[0;34m(\u001b[0m\u001b[0mcompany_name\u001b[0m\u001b[0;34m)\u001b[0m\u001b[0;34m:\u001b[0m\u001b[0;34m\u001b[0m\u001b[0;34m\u001b[0m\u001b[0m\n\u001b[1;32m      3\u001b[0m     \u001b[0mprint\u001b[0m\u001b[0;34m(\u001b[0m\u001b[0;34m'get_urls'\u001b[0m\u001b[0;34m)\u001b[0m\u001b[0;34m\u001b[0m\u001b[0;34m\u001b[0m\u001b[0m\n\u001b[1;32m      4\u001b[0m     \"\"\"\n\u001b[1;32m      5\u001b[0m     \u001b[0;34m:\u001b[0m\u001b[0mparam\u001b[0m \u001b[0mcompany_name\u001b[0m\u001b[0;34m:\u001b[0m \u001b[0mName\u001b[0m \u001b[0mof\u001b[0m \u001b[0mthe\u001b[0m \u001b[0mcompany\u001b[0m\u001b[0;34m\u001b[0m\u001b[0;34m\u001b[0m\u001b[0m\n",
      "\u001b[0;31mImportError\u001b[0m: cannot import name 'search' from 'googlesearch' (/home/akanksha/anaconda3/lib/python3.7/site-packages/googlesearch/__init__.py)"
     ]
    }
   ],
   "source": [
    "from googlesearch import search\n",
    "def get_urls(company_name):\n",
    "    print('get_urls')\n",
    "    \"\"\"\n",
    "    :param company_name: Name of the company\n",
    "    :return: URLs of LinkedIn, Angel.co, crunch_base and the company mentioned.\n",
    "    \"\"\"\n",
    "    sites = ['linked_in']\n",
    "    urls = {}\n",
    "    for site in sites:\n",
    "        query = company_name + site\n",
    "        # url_generator = GoogleSearch().search(query, tld=\"com\", num=1, stop=1, pause=2)\n",
    "        url_generator = search(query, tld=\"com\", num=1, stop=1, pause=2)\n",
    "    return urls"
   ]
  },
  {
   "cell_type": "code",
   "execution_count": 66,
   "metadata": {},
   "outputs": [
    {
     "name": "stdout",
     "output_type": "stream",
     "text": [
      "get_urls\n"
     ]
    },
    {
     "ename": "NameError",
     "evalue": "name 'search' is not defined",
     "output_type": "error",
     "traceback": [
      "\u001b[0;31m---------------------------------------------------------------------------\u001b[0m",
      "\u001b[0;31mNameError\u001b[0m                                 Traceback (most recent call last)",
      "\u001b[0;32m<ipython-input-66-a64ba3148911>\u001b[0m in \u001b[0;36m<module>\u001b[0;34m\u001b[0m\n\u001b[1;32m      1\u001b[0m \u001b[0mlinkedin_url\u001b[0m \u001b[0;34m=\u001b[0m \u001b[0;34m[\u001b[0m\u001b[0;34m]\u001b[0m\u001b[0;34m\u001b[0m\u001b[0;34m\u001b[0m\u001b[0m\n\u001b[1;32m      2\u001b[0m \u001b[0;32mfor\u001b[0m \u001b[0mi\u001b[0m \u001b[0;32min\u001b[0m \u001b[0mcompany_name\u001b[0m\u001b[0;34m[\u001b[0m\u001b[0;34m:\u001b[0m\u001b[0;36m3\u001b[0m\u001b[0;34m]\u001b[0m\u001b[0;34m:\u001b[0m\u001b[0;34m\u001b[0m\u001b[0;34m\u001b[0m\u001b[0m\n\u001b[0;32m----> 3\u001b[0;31m     \u001b[0mlinkedin_url\u001b[0m\u001b[0;34m.\u001b[0m\u001b[0mappend\u001b[0m\u001b[0;34m(\u001b[0m\u001b[0mget_urls\u001b[0m\u001b[0;34m(\u001b[0m\u001b[0mi\u001b[0m\u001b[0;34m)\u001b[0m\u001b[0;34m)\u001b[0m\u001b[0;34m\u001b[0m\u001b[0;34m\u001b[0m\u001b[0m\n\u001b[0m\u001b[1;32m      4\u001b[0m \u001b[0;34m\u001b[0m\u001b[0m\n\u001b[1;32m      5\u001b[0m \u001b[0mlinkedin_url\u001b[0m\u001b[0;34m\u001b[0m\u001b[0;34m\u001b[0m\u001b[0m\n",
      "\u001b[0;32m<ipython-input-61-07cbd22d5706>\u001b[0m in \u001b[0;36mget_urls\u001b[0;34m(company_name)\u001b[0m\n\u001b[1;32m     10\u001b[0m         \u001b[0mquery\u001b[0m \u001b[0;34m=\u001b[0m \u001b[0mcompany_name\u001b[0m \u001b[0;34m+\u001b[0m \u001b[0msite\u001b[0m\u001b[0;34m\u001b[0m\u001b[0;34m\u001b[0m\u001b[0m\n\u001b[1;32m     11\u001b[0m         \u001b[0;31m# url_generator = GoogleSearch().search(query, tld=\"com\", num=1, stop=1, pause=2)\u001b[0m\u001b[0;34m\u001b[0m\u001b[0;34m\u001b[0m\u001b[0;34m\u001b[0m\u001b[0m\n\u001b[0;32m---> 12\u001b[0;31m         \u001b[0murl_generator\u001b[0m \u001b[0;34m=\u001b[0m \u001b[0msearch\u001b[0m\u001b[0;34m(\u001b[0m\u001b[0mquery\u001b[0m\u001b[0;34m,\u001b[0m \u001b[0mtld\u001b[0m\u001b[0;34m=\u001b[0m\u001b[0;34m\"com\"\u001b[0m\u001b[0;34m,\u001b[0m \u001b[0mnum\u001b[0m\u001b[0;34m=\u001b[0m\u001b[0;36m1\u001b[0m\u001b[0;34m,\u001b[0m \u001b[0mstop\u001b[0m\u001b[0;34m=\u001b[0m\u001b[0;36m1\u001b[0m\u001b[0;34m,\u001b[0m \u001b[0mpause\u001b[0m\u001b[0;34m=\u001b[0m\u001b[0;36m2\u001b[0m\u001b[0;34m)\u001b[0m\u001b[0;34m\u001b[0m\u001b[0;34m\u001b[0m\u001b[0m\n\u001b[0m\u001b[1;32m     13\u001b[0m     \u001b[0;32mreturn\u001b[0m \u001b[0murls\u001b[0m\u001b[0;34m\u001b[0m\u001b[0;34m\u001b[0m\u001b[0m\n",
      "\u001b[0;31mNameError\u001b[0m: name 'search' is not defined"
     ]
    }
   ],
   "source": [
    "linkedin_url = []\n",
    "for i in company_name[:3]:\n",
    "    linkedin_url.append(get_urls(i))\n",
    "    \n",
    "linkedin_url"
   ]
  },
  {
   "cell_type": "code",
   "execution_count": null,
   "metadata": {},
   "outputs": [],
   "source": [
    "def callfunction(company_name):\n",
    "    for i in range(0,5):\n",
    "        link = driver.find_elements_by_xpath('//li[@class = \"content\"]/a')\n",
    "        link[i].text\n",
    "        print()\n",
    "        link_ = link[i].get_attribute(\"href\")\n",
    "        print(link_)\n",
    "        url.append(link_)\n",
    "        driver.get(link_)\n",
    "        sleep(2)\n",
    "        driver.find_element_by_link_text('About').click()\n",
    "        sleep(8)\n",
    "        em=driver.find_element_by_class_name('overflow-hidden')\n",
    "        employ = em.text  \n",
    "        em_no = employ.split(\"\\n\")\n",
    "\n",
    "        for i in em_no:\n",
    "            if(i == \"Company size\"):\n",
    "                print(em_no[em_no.index(i)+1])\n",
    "                employees.append(em_no[em_no.index(i)+1])\n",
    "            break\n",
    "\n",
    "\n",
    "        driver.execute_script(\"window.history.go(-2)\")\n",
    "        sleep(8)\n",
    "\n",
    "\n",
    "    callfunction(company_name)\n",
    "    # =============================================================================\n",
    "    # print(url)\n",
    "    # print(employees)\n",
    "    # =============================================================================\n",
    "    data = [company_name,url,employees]\n",
    "    df = pd.DataFrame(data,index = [\"COmpany_NAME\",\"Url\",\"Employees\"])\n",
    "    url.append(link_)\n",
    "    driver.get(link_)\n",
    "    sleep(2)\n",
    "    driver.find_element_by_link_text('About').click()\n",
    "    sleep(8)\n",
    "    em=driver.find_element_by_class_name('overflow-hidden')\n",
    "    employ = em.text  \n",
    "    em_no = employ.split(\"\\n\")\n",
    "\n",
    "    for i in em_no:\n",
    "        if(i == \"Company size\"):\n",
    "            print(em_no[em_no.index(i)+1])\n",
    "            employees.append(em_no[em_no.index(i)+1])\n",
    "            break\n",
    "\n",
    "\n",
    "    driver.execute_script(\"window.history.go(-2)\")\n",
    "    sleep(8)\n",
    "\n",
    "\n",
    "callfunction(company_name)\n",
    "# =============================================================================\n",
    "# print(url)\n",
    "# print(employees)\n",
    "# =============================================================================\n",
    "data = [company_name,url,employees]\n",
    "df = pd.DataFrame(data,index = [\"COmpany_NAME\",\"Url\",\"Employees\"])\n",
    "df"
   ]
  }
 ],
 "metadata": {
  "kernelspec": {
   "display_name": "Python 3",
   "language": "python",
   "name": "python3"
  },
  "language_info": {
   "codemirror_mode": {
    "name": "ipython",
    "version": 3
   },
   "file_extension": ".py",
   "mimetype": "text/x-python",
   "name": "python",
   "nbconvert_exporter": "python",
   "pygments_lexer": "ipython3",
   "version": "3.7.3"
  }
 },
 "nbformat": 4,
 "nbformat_minor": 2
}
